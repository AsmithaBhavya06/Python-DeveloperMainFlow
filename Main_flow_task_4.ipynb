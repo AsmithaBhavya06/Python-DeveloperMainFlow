{
  "nbformat": 4,
  "nbformat_minor": 0,
  "metadata": {
    "colab": {
      "provenance": [],
      "authorship_tag": "ABX9TyPdhEcb6nAt3BeNNDTN5JEj",
      "include_colab_link": true
    },
    "kernelspec": {
      "name": "python3",
      "display_name": "Python 3"
    },
    "language_info": {
      "name": "python"
    }
  },
  "cells": [
    {
      "cell_type": "markdown",
      "metadata": {
        "id": "view-in-github",
        "colab_type": "text"
      },
      "source": [
        "<a href=\"https://colab.research.google.com/github/AsmithaBhavya06/Python-DeveloperMainFlow/blob/main/Main_flow_task_4.ipynb\" target=\"_parent\"><img src=\"https://colab.research.google.com/assets/colab-badge.svg\" alt=\"Open In Colab\"/></a>"
      ]
    },
    {
      "cell_type": "code",
      "execution_count": 1,
      "metadata": {
        "colab": {
          "base_uri": "https://localhost:8080/"
        },
        "id": "xtqozhvzOvMo",
        "outputId": "92c6a2cd-b2e8-4257-9bad-5dc9610a72b8"
      },
      "outputs": [
        {
          "output_type": "stream",
          "name": "stdout",
          "text": [
            "\n",
            "Simple Command-Line Calculator\n",
            "1. Add\n",
            "2. Subtract\n",
            "3. Multiply\n",
            "4. Divide\n",
            "5. Exit\n",
            "Select an operation (1/2/3/4/5): 3\n",
            "Enter first number: 2\n",
            "Enter second number: 4\n",
            "The result is: 8.0\n",
            "\n",
            "Simple Command-Line Calculator\n",
            "1. Add\n",
            "2. Subtract\n",
            "3. Multiply\n",
            "4. Divide\n",
            "5. Exit\n",
            "Select an operation (1/2/3/4/5): 2\n",
            "Enter first number: 5\n",
            "Enter second number: 3\n",
            "The result is: 2.0\n",
            "\n",
            "Simple Command-Line Calculator\n",
            "1. Add\n",
            "2. Subtract\n",
            "3. Multiply\n",
            "4. Divide\n",
            "5. Exit\n",
            "Select an operation (1/2/3/4/5): 5\n",
            "Exiting the calculator. Goodbye!\n"
          ]
        }
      ],
      "source": [
        "#Task 4\n",
        "def display_menu():\n",
        "    print(\"\\nSimple Command-Line Calculator\")\n",
        "    print(\"1. Add\")\n",
        "    print(\"2. Subtract\")\n",
        "    print(\"3. Multiply\")\n",
        "    print(\"4. Divide\")\n",
        "    print(\"5. Exit\")\n",
        "\n",
        "def get_user_choice():\n",
        "    while True:\n",
        "        choice = input(\"Select an operation (1/2/3/4/5): \")\n",
        "        if choice in ['1', '2', '3', '4', '5']:\n",
        "            return choice\n",
        "        else:\n",
        "            print(\"Invalid input. Please select a valid operation (1-5).\")\n",
        "\n",
        "def get_numbers():\n",
        "    while True:\n",
        "        try:\n",
        "            num1 = float(input(\"Enter first number: \"))\n",
        "            num2 = float(input(\"Enter second number: \"))\n",
        "            return num1, num2\n",
        "        except ValueError:\n",
        "            print(\"Invalid input. Please enter numerical values.\")\n",
        "\n",
        "def add(x, y):\n",
        "    return x + y\n",
        "\n",
        "def subtract(x, y):\n",
        "    return x - y\n",
        "\n",
        "def multiply(x, y):\n",
        "    return x * y\n",
        "\n",
        "def divide(x, y):\n",
        "    if y == 0:\n",
        "        return \"Error! Division by zero.\"\n",
        "    return x / y\n",
        "\n",
        "def main():\n",
        "    while True:\n",
        "        display_menu()\n",
        "        choice = get_user_choice()\n",
        "\n",
        "        if choice == '5':\n",
        "            print(\"Exiting the calculator. Goodbye!\")\n",
        "            break\n",
        "\n",
        "        if choice in ['1', '2', '3', '4']:\n",
        "            num1, num2 = get_numbers()\n",
        "\n",
        "            if choice == '1':\n",
        "                print(f\"The result is: {add(num1, num2)}\")\n",
        "            elif choice == '2':\n",
        "                print(f\"The result is: {subtract(num1, num2)}\")\n",
        "            elif choice == '3':\n",
        "                print(f\"The result is: {multiply(num1, num2)}\")\n",
        "            elif choice == '4':\n",
        "                print(f\"The result is: {divide(num1, num2)}\")\n",
        "        else:\n",
        "            print(\"Invalid input. Please select a valid operation.\")\n",
        "\n",
        "if __name__ == \"__main__\":\n",
        "    main()\n"
      ]
    }
  ]
}